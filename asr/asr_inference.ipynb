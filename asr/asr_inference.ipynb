{
 "cells": [
  {
   "cell_type": "code",
   "execution_count": 1,
   "metadata": {},
   "outputs": [
    {
     "name": "stderr",
     "output_type": "stream",
     "text": [
      "/home/title/miniforge3/envs/asr_test/lib/python3.10/site-packages/tqdm/auto.py:21: TqdmWarning: IProgress not found. Please update jupyter and ipywidgets. See https://ipywidgets.readthedocs.io/en/stable/user_install.html\n",
      "  from .autonotebook import tqdm as notebook_tqdm\n"
     ]
    },
    {
     "data": {
      "text/plain": [
       "['test/test-2-person2-off3.wav', 'test/test-1-person1-off0.wav']"
      ]
     },
     "execution_count": 1,
     "metadata": {},
     "output_type": "execute_result"
    }
   ],
   "source": [
    "%load_ext autoreload\n",
    "%autoreload 2\n",
    "from glob import glob\n",
    "from asr_module import *\n",
    "\n",
    "audio_paths = glob('test/*.wav')\n",
    "audio_paths"
   ]
  },
  {
   "cell_type": "code",
   "execution_count": null,
   "metadata": {},
   "outputs": [],
   "source": [
    "# assume that each file is in format *-*-{speaker_name}-off{offset}.wav"
   ]
  },
  {
   "cell_type": "code",
   "execution_count": 2,
   "metadata": {},
   "outputs": [
    {
     "data": {
      "text/plain": [
       "{'test/test-2-person2-off3.wav': 3, 'test/test-1-person1-off0.wav': 0}"
      ]
     },
     "execution_count": 2,
     "metadata": {},
     "output_type": "execute_result"
    }
   ],
   "source": [
    "offsets = get_offset(audio_paths)\n",
    "offsets"
   ]
  },
  {
   "cell_type": "code",
   "execution_count": 11,
   "metadata": {},
   "outputs": [
    {
     "data": {
      "text/plain": [
       "{'output': [{'text': ' Hello, hello, one, two, three.',\n",
       "   'speaker': 'person1',\n",
       "   'start': 0.0,\n",
       "   'end': 3.0},\n",
       "  {'text': ' Hello, hello, Tia Test. I love you so much. Have a good day. Bye.',\n",
       "   'speaker': 'person2',\n",
       "   'start': 3.0,\n",
       "   'end': 17.34},\n",
       "  {'text': ' How are you today?',\n",
       "   'speaker': 'person1',\n",
       "   'start': 6.0,\n",
       "   'end': 8.0},\n",
       "  {'text': ' Me too.', 'speaker': 'person1', 'start': 11.0, 'end': 12.0},\n",
       "  {'text': ' See you. Bye.',\n",
       "   'speaker': 'person1',\n",
       "   'start': 13.0,\n",
       "   'end': 14.0}]}"
      ]
     },
     "execution_count": 11,
     "metadata": {},
     "output_type": "execute_result"
    }
   ],
   "source": [
    "import requests\n",
    "\n",
    "url = \"http://localhost:8000/transcribe/\"\n",
    "output = []\n",
    "for audio_path in audio_paths:\n",
    "    speaker_name = get_speaker_name(audio_path)\n",
    "    files = {'file': open(audio_path, 'rb')}\n",
    "    params = {\"speaker_name\": speaker_name, \"offset\": offsets[audio_path]}\n",
    "    output.append(requests.post(url, params=params, files=files).json())\n",
    "\n",
    "combine_sort(output)"
   ]
  }
 ],
 "metadata": {
  "language_info": {
   "name": "python"
  }
 },
 "nbformat": 4,
 "nbformat_minor": 2
}
